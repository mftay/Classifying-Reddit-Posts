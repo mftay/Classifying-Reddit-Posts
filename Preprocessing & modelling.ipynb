{
 "cells": [
  {
   "cell_type": "markdown",
   "metadata": {},
   "source": [
    "# Notebook 2: Pre-processing & modelling\n"
   ]
  },
  {
   "cell_type": "markdown",
   "metadata": {},
   "source": [
    "[Pre-processing](#preprocessing)\n",
    "\n",
    "[Model 1: Naive Bayes](#naive_bayes)\n",
    "\n",
    "[Model 2: Logistic Regression](#log_reg)"
   ]
  },
  {
   "cell_type": "code",
   "execution_count": 1,
   "metadata": {},
   "outputs": [],
   "source": [
    "import random\n",
    "import re\n",
    "import pandas as pd\n",
    "import numpy as np\n",
    "import matplotlib.pyplot as plt\n",
    "\n",
    "from bs4 import BeautifulSoup\n",
    "from nltk.corpus import stopwords\n",
    "from wordcloud import WordCloud, STOPWORDS, ImageColorGenerator\n",
    "from nltk.stem.porter import PorterStemmer\n",
    "\n",
    "from sklearn.pipeline import Pipeline\n",
    "from sklearn.model_selection import GridSearchCV, train_test_split, cross_val_score\n",
    "from sklearn.linear_model import LogisticRegression\n",
    "from sklearn.naive_bayes import MultinomialNB\n",
    "from sklearn.feature_extraction.text import CountVectorizer"
   ]
  },
  {
   "cell_type": "code",
   "execution_count": 2,
   "metadata": {},
   "outputs": [
    {
     "data": {
      "text/plain": [
       "(1830, 3)"
      ]
     },
     "execution_count": 2,
     "metadata": {},
     "output_type": "execute_result"
    }
   ],
   "source": [
    "# Importing Data\n",
    "df = pd.read_csv('cleaned_data.csv')\n",
    "df.drop(columns = 'Unnamed: 0', inplace = True) \n",
    "df.shape"
   ]
  },
  {
   "cell_type": "markdown",
   "metadata": {},
   "source": [
    "<a id='preprocessing'></a>"
   ]
  },
  {
   "cell_type": "markdown",
   "metadata": {},
   "source": [
    "## Pre-processing: Removing html, non-letters, Regex/removing punctuation, removing stop words, Tokenising, Lemmatizing/Stemming"
   ]
  },
  {
   "cell_type": "code",
   "execution_count": 7,
   "metadata": {},
   "outputs": [],
   "source": [
    "def review_to_words(raw_review):\n",
    "    # Function to convert a raw review to a string of words. The input is a single string (a raw reddit review), and \n",
    "    # the output is a single string (a preprocessed reddit review)\n",
    "    \n",
    "    # 1. Remove HTML.\n",
    "    review_text = BeautifulSoup(raw_review).get_text()\n",
    "    \n",
    "    # 2. Remove non-letters.\n",
    "    letters_only = re.sub(\"[^a-zA-Z]\", \" \", review_text)\n",
    "    \n",
    "    # 3. Convert to lower case, split into individual words.\n",
    "    words = letters_only.lower().split()\n",
    "    \n",
    "    # 4. In Python, searching a set is much faster than searching\n",
    "    # a list, so convert the stop words to a set.\n",
    "    stops = set(stopwords.words('english'))\n",
    "    \n",
    "    # 5. Remove stop words.\n",
    "    meaningful_words = [w for w in words if not w in stops]\n",
    "    \n",
    "    # 6. Stemming. Lemmatizing was also done but model performance fared worse.\n",
    "    p_stemmer = PorterStemmer()\n",
    "    stem_spam = [p_stemmer.stem(i) for i in meaningful_words]\n",
    "    \n",
    "    # 6. Join the words back into one string separated by space, \n",
    "    # and return the result.\n",
    "    return(\" \".join(stem_spam))\n"
   ]
  },
  {
   "cell_type": "code",
   "execution_count": 8,
   "metadata": {},
   "outputs": [
    {
     "name": "stdout",
     "output_type": "stream",
     "text": [
      "There are 1830 reviews.\n"
     ]
    }
   ],
   "source": [
    "total_reviews = df.shape[0]\n",
    "print(f'There are {total_reviews} reviews.')\n",
    "\n",
    "clean_combined_reviews = []\n",
    "\n",
    "for review in df['content']:\n",
    "    clean_combined_reviews.append(review_to_words(review))\n",
    "\n",
    "cleaned = pd.DataFrame(data = clean_combined_reviews, columns = ['clean_content'])\n",
    "df_clean = df.join(cleaned, how='left')"
   ]
  },
  {
   "cell_type": "code",
   "execution_count": 9,
   "metadata": {},
   "outputs": [
    {
     "data": {
      "text/html": [
       "<div>\n",
       "<style scoped>\n",
       "    .dataframe tbody tr th:only-of-type {\n",
       "        vertical-align: middle;\n",
       "    }\n",
       "\n",
       "    .dataframe tbody tr th {\n",
       "        vertical-align: top;\n",
       "    }\n",
       "\n",
       "    .dataframe thead th {\n",
       "        text-align: right;\n",
       "    }\n",
       "</style>\n",
       "<table border=\"1\" class=\"dataframe\">\n",
       "  <thead>\n",
       "    <tr style=\"text-align: right;\">\n",
       "      <th></th>\n",
       "      <th>content</th>\n",
       "      <th>subreddit_Fantasy</th>\n",
       "      <th>clean_content</th>\n",
       "    </tr>\n",
       "  </thead>\n",
       "  <tbody>\n",
       "    <tr>\n",
       "      <th>0</th>\n",
       "      <td>Are there more books planned for the Licanius ...</td>\n",
       "      <td>1</td>\n",
       "      <td>book plan licaniu seri discov trilog past fall...</td>\n",
       "    </tr>\n",
       "    <tr>\n",
       "      <th>1</th>\n",
       "      <td>Grimdark coming of age booksI have read many b...</td>\n",
       "      <td>1</td>\n",
       "      <td>grimdark come age booksi read mani book found ...</td>\n",
       "    </tr>\n",
       "    <tr>\n",
       "      <th>2</th>\n",
       "      <td>Fantasy tropes from another POVReading Expanse...</td>\n",
       "      <td>1</td>\n",
       "      <td>fantasi trope anoth povread expans realis adol...</td>\n",
       "    </tr>\n",
       "    <tr>\n",
       "      <th>3</th>\n",
       "      <td>How long does it take to get into the Wanderin...</td>\n",
       "      <td>1</td>\n",
       "      <td>long take get wander inn hi everyon recent sta...</td>\n",
       "    </tr>\n",
       "    <tr>\n",
       "      <th>4</th>\n",
       "      <td>What's some dark/gothic fantasy that is *not* ...</td>\n",
       "      <td>1</td>\n",
       "      <td>dark gothic fantasi grimdark read bram stoker ...</td>\n",
       "    </tr>\n",
       "  </tbody>\n",
       "</table>\n",
       "</div>"
      ],
      "text/plain": [
       "                                             content  subreddit_Fantasy  \\\n",
       "0  Are there more books planned for the Licanius ...                  1   \n",
       "1  Grimdark coming of age booksI have read many b...                  1   \n",
       "2  Fantasy tropes from another POVReading Expanse...                  1   \n",
       "3  How long does it take to get into the Wanderin...                  1   \n",
       "4  What's some dark/gothic fantasy that is *not* ...                  1   \n",
       "\n",
       "                                       clean_content  \n",
       "0  book plan licaniu seri discov trilog past fall...  \n",
       "1  grimdark come age booksi read mani book found ...  \n",
       "2  fantasi trope anoth povread expans realis adol...  \n",
       "3  long take get wander inn hi everyon recent sta...  \n",
       "4  dark gothic fantasi grimdark read bram stoker ...  "
      ]
     },
     "execution_count": 9,
     "metadata": {},
     "output_type": "execute_result"
    }
   ],
   "source": [
    "df_clean.head()"
   ]
  },
  {
   "cell_type": "markdown",
   "metadata": {},
   "source": [
    "## Customised Stopwords"
   ]
  },
  {
   "cell_type": "code",
   "execution_count": 30,
   "metadata": {},
   "outputs": [],
   "source": [
    "own_stopwords = ['www', 'http', 'fantasy', 'fantasi', 'scifi','printsf', 'sf', 'book', 'one', 'thing', 'realli']"
   ]
  },
  {
   "cell_type": "markdown",
   "metadata": {},
   "source": [
    "## Train/Test/Split"
   ]
  },
  {
   "cell_type": "code",
   "execution_count": 10,
   "metadata": {},
   "outputs": [
    {
     "name": "stdout",
     "output_type": "stream",
     "text": [
      "shape of X_train is (1464,)\n",
      "shape of y_train is (1464,)\n",
      "shape of X_test is (366,)\n",
      "shape of y_test is (366,)\n"
     ]
    }
   ],
   "source": [
    "# define our X and y variables\n",
    "X  = df_clean['clean_content']\n",
    "y = df_clean['subreddit_Fantasy']\n",
    "\n",
    "X_train, X_test, y_train, y_test = train_test_split (X, y, stratify = y, test_size = 0.2, random_state = 50)\n",
    "\n",
    "print(f'shape of X_train is {X_train.shape}')\n",
    "print(f'shape of y_train is {y_train.shape}')\n",
    "print(f'shape of X_test is {X_test.shape}')\n",
    "print(f'shape of y_test is {y_test.shape}')\n"
   ]
  },
  {
   "cell_type": "markdown",
   "metadata": {},
   "source": [
    "## Baseline Model Accuracy\n",
    "We have a 54% baseline accuracy of correctly predicting a post coming from the Fantasy subreddit."
   ]
  },
  {
   "cell_type": "code",
   "execution_count": 12,
   "metadata": {},
   "outputs": [
    {
     "name": "stdout",
     "output_type": "stream",
     "text": [
      "1    0.545355\n",
      "0    0.454645\n",
      "Name: subreddit_Fantasy, dtype: float64\n",
      "1    0.545082\n",
      "0    0.454918\n",
      "Name: subreddit_Fantasy, dtype: float64\n"
     ]
    }
   ],
   "source": [
    "print(df['subreddit_Fantasy'].value_counts(normalize = True))\n",
    "print(y_train.value_counts(normalize = True))"
   ]
  },
  {
   "cell_type": "markdown",
   "metadata": {},
   "source": [
    "<a id='naive_bayes'></a>"
   ]
  },
  {
   "cell_type": "markdown",
   "metadata": {},
   "source": [
    "## Model 1: Naive Bayes (Multinomial Bayes)\n",
    "Multinomial Bayes was chosen as CountVectorizer can return integers. We will build a pipeline consisting of CountVectorizer, followed by LogisticRegression.\n"
   ]
  },
  {
   "cell_type": "code",
   "execution_count": 13,
   "metadata": {},
   "outputs": [],
   "source": [
    "pipe = Pipeline([\n",
    "    ('vec', CountVectorizer()),\n",
    "    ('nb', MultinomialNB()),\n",
    "])"
   ]
  },
  {
   "cell_type": "code",
   "execution_count": 14,
   "metadata": {},
   "outputs": [
    {
     "name": "stdout",
     "output_type": "stream",
     "text": [
      "Fitting 5 folds for each of 180 candidates, totalling 900 fits\n"
     ]
    },
    {
     "name": "stderr",
     "output_type": "stream",
     "text": [
      "[Parallel(n_jobs=1)]: Using backend SequentialBackend with 1 concurrent workers.\n",
      "[Parallel(n_jobs=1)]: Done 900 out of 900 | elapsed: 13.6min finished\n"
     ]
    },
    {
     "name": "stdout",
     "output_type": "stream",
     "text": [
      "0.8306010928961749\n"
     ]
    },
    {
     "data": {
      "text/plain": [
       "{'vec__max_df': 0.7,\n",
       " 'vec__max_features': 2000,\n",
       " 'vec__min_df': 0.01,\n",
       " 'vec__ngram_range': (1, 1),\n",
       " 'vec__stop_words': ['www',\n",
       "  'http',\n",
       "  'fantasy',\n",
       "  'scifi',\n",
       "  'printsf',\n",
       "  'sf',\n",
       "  'book',\n",
       "  'one',\n",
       "  'thing',\n",
       "  'realli']}"
      ]
     },
     "execution_count": 14,
     "metadata": {},
     "output_type": "execute_result"
    }
   ],
   "source": [
    "# Gridsearch over CountVectorizer and Naive Bayes\n",
    "pipe_params = {\n",
    "    'vec__stop_words' : [own_stopwords],\n",
    "    'vec__max_features': [1000, 1500, 2000, 2500, 3000],\n",
    "    'vec__min_df': [0.01, .05, .1, .2],\n",
    "    'vec__max_df': [0.7, .8, .9],\n",
    "    'vec__ngram_range': [(1,1), (1,2), (1,3)]      # check both single grams and bi-grams \n",
    "}\n",
    "\n",
    "gs_nb = GridSearchCV(pipe, param_grid = pipe_params, cv = 5, verbose = 1)\n",
    "gs_nb.fit(X_train, y_train)\n",
    "\n",
    "print(gs_nb.best_score_)\n",
    "gs_nb.best_params_  "
   ]
  },
  {
   "cell_type": "code",
   "execution_count": 15,
   "metadata": {},
   "outputs": [
    {
     "name": "stdout",
     "output_type": "stream",
     "text": [
      " Accuracy r^2 score on training data is 0.8845628415300546\n",
      " Accuracy r^2 score on testing data is 0.860655737704918\n"
     ]
    }
   ],
   "source": [
    "# Instantiate our CountVectorizer & Naive Bayes with the best parameters found from GridSearch\n",
    "\n",
    "best_pipe_nb = Pipeline([\n",
    "    ('vec', CountVectorizer(max_features = 1500, max_df = 0.7, min_df = 0.01, stop_words = own_stopwords, ngram_range = (1,1))),\n",
    "    ('nb', MultinomialNB())\n",
    "])\n",
    "\n",
    "best_pipe_nb.fit(X_train, y_train)\n",
    "\n",
    "print(f' Accuracy score on training data is {best_pipe_nb.score(X_train, y_train)}')\n",
    "print(f' Accuracy score on testing data is {best_pipe_nb.score(X_test, y_test)}')"
   ]
  },
  {
   "cell_type": "code",
   "execution_count": 16,
   "metadata": {},
   "outputs": [],
   "source": [
    "# exploring the top words identified by the model as features\n",
    "#best_pipe_nb.steps[0][1].get_feature_names()"
   ]
  },
  {
   "cell_type": "code",
   "execution_count": 35,
   "metadata": {},
   "outputs": [
    {
     "data": {
      "text/html": [
       "<div>\n",
       "<style scoped>\n",
       "    .dataframe tbody tr th:only-of-type {\n",
       "        vertical-align: middle;\n",
       "    }\n",
       "\n",
       "    .dataframe tbody tr th {\n",
       "        vertical-align: top;\n",
       "    }\n",
       "\n",
       "    .dataframe thead th {\n",
       "        text-align: right;\n",
       "    }\n",
       "</style>\n",
       "<table border=\"1\" class=\"dataframe\">\n",
       "  <thead>\n",
       "    <tr style=\"text-align: right;\">\n",
       "      <th></th>\n",
       "      <th>abercrombi</th>\n",
       "      <th>abil</th>\n",
       "      <th>abl</th>\n",
       "      <th>absolut</th>\n",
       "      <th>abus</th>\n",
       "      <th>ac</th>\n",
       "      <th>accept</th>\n",
       "      <th>access</th>\n",
       "      <th>account</th>\n",
       "      <th>accur</th>\n",
       "      <th>...</th>\n",
       "      <th>written</th>\n",
       "      <th>wrong</th>\n",
       "      <th>wrote</th>\n",
       "      <th>ya</th>\n",
       "      <th>ye</th>\n",
       "      <th>yeah</th>\n",
       "      <th>year</th>\n",
       "      <th>yet</th>\n",
       "      <th>young</th>\n",
       "      <th>youtub</th>\n",
       "    </tr>\n",
       "  </thead>\n",
       "  <tbody>\n",
       "    <tr>\n",
       "      <th>0</th>\n",
       "      <td>0</td>\n",
       "      <td>0</td>\n",
       "      <td>1</td>\n",
       "      <td>0</td>\n",
       "      <td>0</td>\n",
       "      <td>0</td>\n",
       "      <td>0</td>\n",
       "      <td>0</td>\n",
       "      <td>0</td>\n",
       "      <td>0</td>\n",
       "      <td>...</td>\n",
       "      <td>0</td>\n",
       "      <td>0</td>\n",
       "      <td>0</td>\n",
       "      <td>0</td>\n",
       "      <td>0</td>\n",
       "      <td>0</td>\n",
       "      <td>0</td>\n",
       "      <td>0</td>\n",
       "      <td>0</td>\n",
       "      <td>0</td>\n",
       "    </tr>\n",
       "    <tr>\n",
       "      <th>1</th>\n",
       "      <td>0</td>\n",
       "      <td>0</td>\n",
       "      <td>0</td>\n",
       "      <td>0</td>\n",
       "      <td>0</td>\n",
       "      <td>0</td>\n",
       "      <td>0</td>\n",
       "      <td>0</td>\n",
       "      <td>0</td>\n",
       "      <td>0</td>\n",
       "      <td>...</td>\n",
       "      <td>0</td>\n",
       "      <td>0</td>\n",
       "      <td>0</td>\n",
       "      <td>0</td>\n",
       "      <td>0</td>\n",
       "      <td>0</td>\n",
       "      <td>0</td>\n",
       "      <td>0</td>\n",
       "      <td>0</td>\n",
       "      <td>0</td>\n",
       "    </tr>\n",
       "    <tr>\n",
       "      <th>2</th>\n",
       "      <td>0</td>\n",
       "      <td>0</td>\n",
       "      <td>0</td>\n",
       "      <td>0</td>\n",
       "      <td>0</td>\n",
       "      <td>0</td>\n",
       "      <td>0</td>\n",
       "      <td>0</td>\n",
       "      <td>0</td>\n",
       "      <td>0</td>\n",
       "      <td>...</td>\n",
       "      <td>2</td>\n",
       "      <td>0</td>\n",
       "      <td>0</td>\n",
       "      <td>0</td>\n",
       "      <td>0</td>\n",
       "      <td>0</td>\n",
       "      <td>1</td>\n",
       "      <td>0</td>\n",
       "      <td>0</td>\n",
       "      <td>0</td>\n",
       "    </tr>\n",
       "    <tr>\n",
       "      <th>3</th>\n",
       "      <td>0</td>\n",
       "      <td>0</td>\n",
       "      <td>0</td>\n",
       "      <td>0</td>\n",
       "      <td>0</td>\n",
       "      <td>0</td>\n",
       "      <td>0</td>\n",
       "      <td>0</td>\n",
       "      <td>0</td>\n",
       "      <td>0</td>\n",
       "      <td>...</td>\n",
       "      <td>0</td>\n",
       "      <td>0</td>\n",
       "      <td>0</td>\n",
       "      <td>0</td>\n",
       "      <td>0</td>\n",
       "      <td>0</td>\n",
       "      <td>0</td>\n",
       "      <td>0</td>\n",
       "      <td>0</td>\n",
       "      <td>0</td>\n",
       "    </tr>\n",
       "    <tr>\n",
       "      <th>4</th>\n",
       "      <td>0</td>\n",
       "      <td>0</td>\n",
       "      <td>0</td>\n",
       "      <td>0</td>\n",
       "      <td>0</td>\n",
       "      <td>0</td>\n",
       "      <td>0</td>\n",
       "      <td>0</td>\n",
       "      <td>0</td>\n",
       "      <td>0</td>\n",
       "      <td>...</td>\n",
       "      <td>0</td>\n",
       "      <td>0</td>\n",
       "      <td>0</td>\n",
       "      <td>0</td>\n",
       "      <td>0</td>\n",
       "      <td>0</td>\n",
       "      <td>0</td>\n",
       "      <td>0</td>\n",
       "      <td>0</td>\n",
       "      <td>0</td>\n",
       "    </tr>\n",
       "  </tbody>\n",
       "</table>\n",
       "<p>5 rows × 1500 columns</p>\n",
       "</div>"
      ],
      "text/plain": [
       "   abercrombi  abil  abl  absolut  abus  ac  accept  access  account  accur  \\\n",
       "0           0     0    1        0     0   0       0       0        0      0   \n",
       "1           0     0    0        0     0   0       0       0        0      0   \n",
       "2           0     0    0        0     0   0       0       0        0      0   \n",
       "3           0     0    0        0     0   0       0       0        0      0   \n",
       "4           0     0    0        0     0   0       0       0        0      0   \n",
       "\n",
       "   ...  written  wrong  wrote  ya  ye  yeah  year  yet  young  youtub  \n",
       "0  ...        0      0      0   0   0     0     0    0      0       0  \n",
       "1  ...        0      0      0   0   0     0     0    0      0       0  \n",
       "2  ...        2      0      0   0   0     0     1    0      0       0  \n",
       "3  ...        0      0      0   0   0     0     0    0      0       0  \n",
       "4  ...        0      0      0   0   0     0     0    0      0       0  \n",
       "\n",
       "[5 rows x 1500 columns]"
      ]
     },
     "execution_count": 35,
     "metadata": {},
     "output_type": "execute_result"
    }
   ],
   "source": [
    "# seeing the top features from the subreddits in a dataframe\n",
    "vec_nb = best_pipe_nb.steps[0][1]\n",
    "X_train_vec_nb = pd.DataFrame(vec_nb.fit_transform(X_train).todense(),\n",
    "                          columns = vec_nb.get_feature_names())\n",
    "X_test_vec_nb = pd.DataFrame(vec_nb.fit_transform(X_test).todense(),\n",
    "                          columns = vec_nb.get_feature_names())\n",
    "X_train_vec_nb.head()"
   ]
  },
  {
   "cell_type": "code",
   "execution_count": 18,
   "metadata": {},
   "outputs": [
    {
     "data": {
      "text/plain": [
       "CountVectorizer(analyzer='word', binary=False, decode_error='strict',\n",
       "                dtype=<class 'numpy.int64'>, encoding='utf-8', input='content',\n",
       "                lowercase=True, max_df=0.7, max_features=1500, min_df=0.01,\n",
       "                ngram_range=(1, 1), preprocessor=None,\n",
       "                stop_words=['www', 'http', 'fantasy', 'scifi', 'printsf', 'sf',\n",
       "                            'book', 'one', 'thing', 'realli'],\n",
       "                strip_accents=None, token_pattern='(?u)\\\\b\\\\w\\\\w+\\\\b',\n",
       "                tokenizer=None, vocabulary=None)"
      ]
     },
     "execution_count": 18,
     "metadata": {},
     "output_type": "execute_result"
    }
   ],
   "source": [
    "best_pipe_nb.steps[0][1]"
   ]
  },
  {
   "cell_type": "code",
   "execution_count": 34,
   "metadata": {},
   "outputs": [
    {
     "name": "stdout",
     "output_type": "stream",
     "text": [
      "List of science fiction top words: \n",
      "['elabor' 'backstori' 'bit' 'way' 'robert' 'wiki' 'overal' 'hang' 'green'\n",
      " 'around' 'gift' 'plant' 'expand' 'planet' 'burn' 'approach' 'haunt'\n",
      " 'hyperion' 'scream' 'chiang' 'org' 'could' 'meaningless' 'conclus' 'arc'\n",
      " 'enough' 'wife' 'scientif' 'engin' 'tortur' 'steven' 'quest' 'rec' 'end'\n",
      " 'ador' 'mainli' 'antholog' 'command' 'jim' 'introduc' 'compel' 'caught'\n",
      " 'villag' 'area' 'anticip' 'soft' 'quickli' 'orc' 'refer' 'watch']\n",
      "List of fantasy top words: \n",
      " ['aaron' 'beyond' 'fail' 'per' 'palac' 'creatur' 'narr' 'preview' 'moment'\n",
      " 'hold' 'rule' 'major' 'made' 'lock' 'jemisin' 'militari' 'gem' 'knowledg'\n",
      " 'friend' 'skin' 'promis' 'gain' 'wizard' 'form' 'across' 'defin' 'measur'\n",
      " 'despit' 'rate' 'religi' 'die' 'bloodi' 'longest' 'divers' 'appeal' 'saw'\n",
      " 'said' 'learn' 'top' 'track' 'antagonist' 'rank' 'lose' 'stupid' 'ship'\n",
      " 'commun' 'bonu' 'practic' 'sit' 'promin']\n"
     ]
    }
   ],
   "source": [
    "# Seeing which are the important words for \n",
    "# prob for positive class\n",
    "pos_class_prob_sorted = best_pipe_nb.steps[1][1].feature_log_prob_[0,:].argsort()\n",
    "\n",
    "# prob for positive class\n",
    "neg_class_prob_sorted = best_pipe_nb.steps[1][1].feature_log_prob_[1,:].argsort()\n",
    "\n",
    "# getting top features for sci fi and fantasy\n",
    "sf_top_features = np.take(best_pipe_nb.steps[0][1].get_feature_names(), neg_class_prob_sorted)\n",
    "f_top_features = np.take(best_pipe_nb.steps[0][1].get_feature_names(), pos_class_prob_sorted)\n",
    "\n",
    "print(f'List of science fiction top words: \\n{sf_top_features[:50]}')\n",
    "print(f'List of fantasy top words: \\n {f_top_features[:50]}')"
   ]
  },
  {
   "cell_type": "markdown",
   "metadata": {},
   "source": [
    "<a id='log_reg'></a>"
   ]
  },
  {
   "cell_type": "markdown",
   "metadata": {},
   "source": [
    "## Model 2: Logistic Regression"
   ]
  },
  {
   "cell_type": "code",
   "execution_count": 24,
   "metadata": {},
   "outputs": [],
   "source": [
    "pipe = Pipeline([\n",
    "    ('vec', CountVectorizer()),\n",
    "    ('lr', LogisticRegression(solver='lbfgs'))\n",
    "])"
   ]
  },
  {
   "cell_type": "code",
   "execution_count": 25,
   "metadata": {},
   "outputs": [
    {
     "name": "stdout",
     "output_type": "stream",
     "text": [
      "Fitting 5 folds for each of 180 candidates, totalling 900 fits\n"
     ]
    },
    {
     "name": "stderr",
     "output_type": "stream",
     "text": [
      "[Parallel(n_jobs=1)]: Using backend SequentialBackend with 1 concurrent workers.\n",
      "[Parallel(n_jobs=1)]: Done 900 out of 900 | elapsed: 13.2min finished\n"
     ]
    },
    {
     "name": "stdout",
     "output_type": "stream",
     "text": [
      "0.842896174863388\n"
     ]
    },
    {
     "data": {
      "text/plain": [
       "{'vec__max_df': 0.6,\n",
       " 'vec__max_features': 2000,\n",
       " 'vec__min_df': 0.01,\n",
       " 'vec__ngram_range': (1, 2),\n",
       " 'vec__stop_words': ['www',\n",
       "  'http',\n",
       "  'fantasy',\n",
       "  'scifi',\n",
       "  'printsf',\n",
       "  'sf',\n",
       "  'book',\n",
       "  'one',\n",
       "  'thing',\n",
       "  'realli']}"
      ]
     },
     "execution_count": 25,
     "metadata": {},
     "output_type": "execute_result"
    }
   ],
   "source": [
    "# Gridsearch over CountVectorizer and Naive Bayes\n",
    "pipe_params = {\n",
    "    'vec__stop_words' : [own_stopwords],\n",
    "    'vec__max_features': [1000, 1500, 2000, 2500, 3000],\n",
    "    'vec__min_df': [0.01, .05, .1],\n",
    "    'vec__max_df': [0.6, 0.7, .8, .9],\n",
    "    'vec__ngram_range': [(1,1), (1,2), (1,3)]      # check single grams, bi-grams & tri-grams\n",
    "}\n",
    "\n",
    "gs_lr = GridSearchCV(pipe, param_grid = pipe_params, cv = 5, verbose = 1)\n",
    "gs_lr.fit(X_train, y_train)\n",
    "\n",
    "print(gs_lr.best_score_)\n",
    "gs_lr.best_params_  "
   ]
  },
  {
   "cell_type": "code",
   "execution_count": 26,
   "metadata": {},
   "outputs": [
    {
     "name": "stdout",
     "output_type": "stream",
     "text": [
      " Accuracy r^2 score on training data is 0.9979508196721312\n",
      " Accuracy r^2 score on testing data is 0.8497267759562842\n"
     ]
    }
   ],
   "source": [
    "# Instantiate our CountVectorizer with the best parameters found from GridSearch\n",
    "\n",
    "best_pipe = Pipeline([\n",
    "    ('vec', CountVectorizer(max_features = 2000, max_df = 0.7, min_df = 0.01, stop_words = own_stopwords, ngram_range = (1,2))),\n",
    "    ('lr', LogisticRegression(solver='lbfgs'))\n",
    "])\n",
    "\n",
    "best_pipe.fit(X_train, y_train)\n",
    "print(f' Accuracy r^2 score on training data is {best_pipe.score(X_train, y_train)}')\n",
    "print(f' Accuracy r^2 score on testing data is {best_pipe.score(X_test, y_test)}')"
   ]
  },
  {
   "cell_type": "markdown",
   "metadata": {},
   "source": [
    "# Visualising the features from CountVectoriser"
   ]
  },
  {
   "cell_type": "code",
   "execution_count": 38,
   "metadata": {},
   "outputs": [
    {
     "name": "stdout",
     "output_type": "stream",
     "text": [
      "There are 1148596 words in all the reviews.\n"
     ]
    },
    {
     "data": {
      "image/png": "[encoded data removed]",
      "text/plain": [
       "<Figure size 432x288 with 1 Axes>"
      ]
     },
     "metadata": {
      "needs_background": "light"
     },
     "output_type": "display_data"
    },
    {
     "data": {
      "text/plain": [
       "<wordcloud.wordcloud.WordCloud at 0x204f270f108>"
      ]
     },
     "execution_count": 38,
     "metadata": {},
     "output_type": "execute_result"
    }
   ],
   "source": [
    "# Start with one review:\n",
    "#text = X_train.iloc[0]\n",
    "text = \" \".join(review for review in X_train)\n",
    "print (\"There are {} words in all the reviews.\".format(len(text)))\n",
    "\n",
    "# Create and generate a word cloud image:\n",
    "wordcloud = WordCloud(max_font_size=50, max_words=100, background_color=\"white\").generate(text)\n",
    "plt.figure()\n",
    "\n",
    "# Display the generated image:\n",
    "plt.imshow(wordcloud, interpolation='bilinear')\n",
    "plt.axis(\"off\")\n",
    "plt.show()\n",
    "wordcloud.to_file('first_review.jpeg')"
   ]
  }
 ],
 "metadata": {
  "kernelspec": {
   "display_name": "Python 3",
   "language": "python",
   "name": "python3"
  },
  "language_info": {
   "codemirror_mode": {
    "name": "ipython",
    "version": 3
   },
   "file_extension": ".py",
   "mimetype": "text/x-python",
   "name": "python",
   "nbconvert_exporter": "python",
   "pygments_lexer": "ipython3",
   "version": "3.7.4"
  }
 },
 "nbformat": 4,
 "nbformat_minor": 4
}
